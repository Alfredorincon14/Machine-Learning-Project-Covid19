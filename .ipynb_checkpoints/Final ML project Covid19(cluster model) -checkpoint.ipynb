{
 "cells": [
  {
   "cell_type": "code",
   "execution_count": 1,
   "metadata": {},
   "outputs": [],
   "source": [
    "#Dependecies\n",
    "import pandas as pd\n",
    "import matplotlib.pyplot as plt\n",
    "import matplotlib\n",
    "import numpy as np\n",
    "import seaborn as sns\n",
    "import requests\n",
    "from os import getcwd\n"
   ]
  },
  {
   "cell_type": "markdown",
   "metadata": {},
   "source": [
    "## Factores for Country Analysis"
   ]
  },
  {
   "cell_type": "code",
   "execution_count": 2,
   "metadata": {},
   "outputs": [],
   "source": [
    "# calculate CAGR for population, cels, and gdp per capita\n",
    "def CAGR(first, last, periods):\n",
    "    return round(((last/first)**(1/periods)-1)*100,2)"
   ]
  },
  {
   "cell_type": "code",
   "execution_count": 3,
   "metadata": {},
   "outputs": [
    {
     "data": {
      "text/plain": [
       "'C:\\\\Users\\\\A\\\\Desktop\\\\final-ml-project-covid19'"
      ]
     },
     "execution_count": 3,
     "metadata": {},
     "output_type": "execute_result"
    }
   ],
   "source": [
    "import os \n",
    "os.getcwd()"
   ]
  },
  {
   "cell_type": "code",
   "execution_count": 4,
   "metadata": {},
   "outputs": [],
   "source": [
    "# !dir C:\\Users\\A\n",
    "PATH_TO_FILES='C:\\\\Users\\\\A\\\\Desktop\\\\final-ml-project-covid19\\\\'"
   ]
  },
  {
   "cell_type": "code",
   "execution_count": 5,
   "metadata": {},
   "outputs": [
    {
     "ename": "FileNotFoundError",
     "evalue": "[Errno 2] File C:\\Users\\A\\Desktop\\final-ml-project-covid19\\gdp_percapita.csv does not exist: 'C:\\\\Users\\\\A\\\\Desktop\\\\final-ml-project-covid19\\\\gdp_percapita.csv'",
     "output_type": "error",
     "traceback": [
      "\u001b[1;31m---------------------------------------------------------------------------\u001b[0m",
      "\u001b[1;31mFileNotFoundError\u001b[0m                         Traceback (most recent call last)",
      "\u001b[1;32m<ipython-input-5-179a146f3eef>\u001b[0m in \u001b[0;36m<module>\u001b[1;34m\u001b[0m\n\u001b[1;32m----> 1\u001b[1;33m \u001b[0mgdp_pc\u001b[0m\u001b[1;33m=\u001b[0m\u001b[0mpd\u001b[0m\u001b[1;33m.\u001b[0m\u001b[0mread_csv\u001b[0m\u001b[1;33m(\u001b[0m\u001b[0mPATH_TO_FILES\u001b[0m\u001b[1;33m+\u001b[0m\u001b[1;34m'gdp_percapita.csv'\u001b[0m\u001b[1;33m)\u001b[0m\u001b[1;33m\u001b[0m\u001b[1;33m\u001b[0m\u001b[0m\n\u001b[0m\u001b[0;32m      2\u001b[0m \u001b[0mgdp_pc\u001b[0m\u001b[1;33m=\u001b[0m\u001b[0mgdp_pc\u001b[0m\u001b[1;33m.\u001b[0m\u001b[0mdropna\u001b[0m\u001b[1;33m(\u001b[0m\u001b[0mhow\u001b[0m\u001b[1;33m=\u001b[0m\u001b[1;34m'all'\u001b[0m\u001b[1;33m)\u001b[0m\u001b[1;33m\u001b[0m\u001b[1;33m\u001b[0m\u001b[0m\n\u001b[0;32m      3\u001b[0m \u001b[0mgdp_pc\u001b[0m\u001b[1;33m=\u001b[0m\u001b[0mgdp_pc\u001b[0m\u001b[1;33m.\u001b[0m\u001b[0mdropna\u001b[0m\u001b[1;33m(\u001b[0m\u001b[0msubset\u001b[0m \u001b[1;33m=\u001b[0m \u001b[1;33m[\u001b[0m\u001b[1;34m'2016'\u001b[0m\u001b[1;33m]\u001b[0m\u001b[1;33m)\u001b[0m\u001b[1;33m\u001b[0m\u001b[1;33m\u001b[0m\u001b[0m\n\u001b[0;32m      4\u001b[0m \u001b[1;31m# gdp_pc=gdp_pc.fillna(axis=1,method='ffill')\u001b[0m\u001b[1;33m\u001b[0m\u001b[1;33m\u001b[0m\u001b[1;33m\u001b[0m\u001b[0m\n\u001b[0;32m      5\u001b[0m \u001b[0mgdp_pc\u001b[0m\u001b[1;33m=\u001b[0m\u001b[0mgdp_pc\u001b[0m\u001b[1;33m.\u001b[0m\u001b[0mfillna\u001b[0m\u001b[1;33m(\u001b[0m\u001b[0maxis\u001b[0m\u001b[1;33m=\u001b[0m\u001b[1;36m1\u001b[0m\u001b[1;33m,\u001b[0m\u001b[0mmethod\u001b[0m\u001b[1;33m=\u001b[0m\u001b[1;34m'ffill'\u001b[0m\u001b[1;33m)\u001b[0m \u001b[1;31m# using last valid year data before dropping rows\u001b[0m\u001b[1;33m\u001b[0m\u001b[1;33m\u001b[0m\u001b[0m\n",
      "\u001b[1;32m~\\Anaconda3\\envs\\PythonData\\lib\\site-packages\\pandas\\io\\parsers.py\u001b[0m in \u001b[0;36mparser_f\u001b[1;34m(filepath_or_buffer, sep, delimiter, header, names, index_col, usecols, squeeze, prefix, mangle_dupe_cols, dtype, engine, converters, true_values, false_values, skipinitialspace, skiprows, skipfooter, nrows, na_values, keep_default_na, na_filter, verbose, skip_blank_lines, parse_dates, infer_datetime_format, keep_date_col, date_parser, dayfirst, cache_dates, iterator, chunksize, compression, thousands, decimal, lineterminator, quotechar, quoting, doublequote, escapechar, comment, encoding, dialect, error_bad_lines, warn_bad_lines, delim_whitespace, low_memory, memory_map, float_precision)\u001b[0m\n\u001b[0;32m    674\u001b[0m         )\n\u001b[0;32m    675\u001b[0m \u001b[1;33m\u001b[0m\u001b[0m\n\u001b[1;32m--> 676\u001b[1;33m         \u001b[1;32mreturn\u001b[0m \u001b[0m_read\u001b[0m\u001b[1;33m(\u001b[0m\u001b[0mfilepath_or_buffer\u001b[0m\u001b[1;33m,\u001b[0m \u001b[0mkwds\u001b[0m\u001b[1;33m)\u001b[0m\u001b[1;33m\u001b[0m\u001b[1;33m\u001b[0m\u001b[0m\n\u001b[0m\u001b[0;32m    677\u001b[0m \u001b[1;33m\u001b[0m\u001b[0m\n\u001b[0;32m    678\u001b[0m     \u001b[0mparser_f\u001b[0m\u001b[1;33m.\u001b[0m\u001b[0m__name__\u001b[0m \u001b[1;33m=\u001b[0m \u001b[0mname\u001b[0m\u001b[1;33m\u001b[0m\u001b[1;33m\u001b[0m\u001b[0m\n",
      "\u001b[1;32m~\\Anaconda3\\envs\\PythonData\\lib\\site-packages\\pandas\\io\\parsers.py\u001b[0m in \u001b[0;36m_read\u001b[1;34m(filepath_or_buffer, kwds)\u001b[0m\n\u001b[0;32m    446\u001b[0m \u001b[1;33m\u001b[0m\u001b[0m\n\u001b[0;32m    447\u001b[0m     \u001b[1;31m# Create the parser.\u001b[0m\u001b[1;33m\u001b[0m\u001b[1;33m\u001b[0m\u001b[1;33m\u001b[0m\u001b[0m\n\u001b[1;32m--> 448\u001b[1;33m     \u001b[0mparser\u001b[0m \u001b[1;33m=\u001b[0m \u001b[0mTextFileReader\u001b[0m\u001b[1;33m(\u001b[0m\u001b[0mfp_or_buf\u001b[0m\u001b[1;33m,\u001b[0m \u001b[1;33m**\u001b[0m\u001b[0mkwds\u001b[0m\u001b[1;33m)\u001b[0m\u001b[1;33m\u001b[0m\u001b[1;33m\u001b[0m\u001b[0m\n\u001b[0m\u001b[0;32m    449\u001b[0m \u001b[1;33m\u001b[0m\u001b[0m\n\u001b[0;32m    450\u001b[0m     \u001b[1;32mif\u001b[0m \u001b[0mchunksize\u001b[0m \u001b[1;32mor\u001b[0m \u001b[0miterator\u001b[0m\u001b[1;33m:\u001b[0m\u001b[1;33m\u001b[0m\u001b[1;33m\u001b[0m\u001b[0m\n",
      "\u001b[1;32m~\\Anaconda3\\envs\\PythonData\\lib\\site-packages\\pandas\\io\\parsers.py\u001b[0m in \u001b[0;36m__init__\u001b[1;34m(self, f, engine, **kwds)\u001b[0m\n\u001b[0;32m    878\u001b[0m             \u001b[0mself\u001b[0m\u001b[1;33m.\u001b[0m\u001b[0moptions\u001b[0m\u001b[1;33m[\u001b[0m\u001b[1;34m\"has_index_names\"\u001b[0m\u001b[1;33m]\u001b[0m \u001b[1;33m=\u001b[0m \u001b[0mkwds\u001b[0m\u001b[1;33m[\u001b[0m\u001b[1;34m\"has_index_names\"\u001b[0m\u001b[1;33m]\u001b[0m\u001b[1;33m\u001b[0m\u001b[1;33m\u001b[0m\u001b[0m\n\u001b[0;32m    879\u001b[0m \u001b[1;33m\u001b[0m\u001b[0m\n\u001b[1;32m--> 880\u001b[1;33m         \u001b[0mself\u001b[0m\u001b[1;33m.\u001b[0m\u001b[0m_make_engine\u001b[0m\u001b[1;33m(\u001b[0m\u001b[0mself\u001b[0m\u001b[1;33m.\u001b[0m\u001b[0mengine\u001b[0m\u001b[1;33m)\u001b[0m\u001b[1;33m\u001b[0m\u001b[1;33m\u001b[0m\u001b[0m\n\u001b[0m\u001b[0;32m    881\u001b[0m \u001b[1;33m\u001b[0m\u001b[0m\n\u001b[0;32m    882\u001b[0m     \u001b[1;32mdef\u001b[0m \u001b[0mclose\u001b[0m\u001b[1;33m(\u001b[0m\u001b[0mself\u001b[0m\u001b[1;33m)\u001b[0m\u001b[1;33m:\u001b[0m\u001b[1;33m\u001b[0m\u001b[1;33m\u001b[0m\u001b[0m\n",
      "\u001b[1;32m~\\Anaconda3\\envs\\PythonData\\lib\\site-packages\\pandas\\io\\parsers.py\u001b[0m in \u001b[0;36m_make_engine\u001b[1;34m(self, engine)\u001b[0m\n\u001b[0;32m   1112\u001b[0m     \u001b[1;32mdef\u001b[0m \u001b[0m_make_engine\u001b[0m\u001b[1;33m(\u001b[0m\u001b[0mself\u001b[0m\u001b[1;33m,\u001b[0m \u001b[0mengine\u001b[0m\u001b[1;33m=\u001b[0m\u001b[1;34m\"c\"\u001b[0m\u001b[1;33m)\u001b[0m\u001b[1;33m:\u001b[0m\u001b[1;33m\u001b[0m\u001b[1;33m\u001b[0m\u001b[0m\n\u001b[0;32m   1113\u001b[0m         \u001b[1;32mif\u001b[0m \u001b[0mengine\u001b[0m \u001b[1;33m==\u001b[0m \u001b[1;34m\"c\"\u001b[0m\u001b[1;33m:\u001b[0m\u001b[1;33m\u001b[0m\u001b[1;33m\u001b[0m\u001b[0m\n\u001b[1;32m-> 1114\u001b[1;33m             \u001b[0mself\u001b[0m\u001b[1;33m.\u001b[0m\u001b[0m_engine\u001b[0m \u001b[1;33m=\u001b[0m \u001b[0mCParserWrapper\u001b[0m\u001b[1;33m(\u001b[0m\u001b[0mself\u001b[0m\u001b[1;33m.\u001b[0m\u001b[0mf\u001b[0m\u001b[1;33m,\u001b[0m \u001b[1;33m**\u001b[0m\u001b[0mself\u001b[0m\u001b[1;33m.\u001b[0m\u001b[0moptions\u001b[0m\u001b[1;33m)\u001b[0m\u001b[1;33m\u001b[0m\u001b[1;33m\u001b[0m\u001b[0m\n\u001b[0m\u001b[0;32m   1115\u001b[0m         \u001b[1;32melse\u001b[0m\u001b[1;33m:\u001b[0m\u001b[1;33m\u001b[0m\u001b[1;33m\u001b[0m\u001b[0m\n\u001b[0;32m   1116\u001b[0m             \u001b[1;32mif\u001b[0m \u001b[0mengine\u001b[0m \u001b[1;33m==\u001b[0m \u001b[1;34m\"python\"\u001b[0m\u001b[1;33m:\u001b[0m\u001b[1;33m\u001b[0m\u001b[1;33m\u001b[0m\u001b[0m\n",
      "\u001b[1;32m~\\Anaconda3\\envs\\PythonData\\lib\\site-packages\\pandas\\io\\parsers.py\u001b[0m in \u001b[0;36m__init__\u001b[1;34m(self, src, **kwds)\u001b[0m\n\u001b[0;32m   1889\u001b[0m         \u001b[0mkwds\u001b[0m\u001b[1;33m[\u001b[0m\u001b[1;34m\"usecols\"\u001b[0m\u001b[1;33m]\u001b[0m \u001b[1;33m=\u001b[0m \u001b[0mself\u001b[0m\u001b[1;33m.\u001b[0m\u001b[0musecols\u001b[0m\u001b[1;33m\u001b[0m\u001b[1;33m\u001b[0m\u001b[0m\n\u001b[0;32m   1890\u001b[0m \u001b[1;33m\u001b[0m\u001b[0m\n\u001b[1;32m-> 1891\u001b[1;33m         \u001b[0mself\u001b[0m\u001b[1;33m.\u001b[0m\u001b[0m_reader\u001b[0m \u001b[1;33m=\u001b[0m \u001b[0mparsers\u001b[0m\u001b[1;33m.\u001b[0m\u001b[0mTextReader\u001b[0m\u001b[1;33m(\u001b[0m\u001b[0msrc\u001b[0m\u001b[1;33m,\u001b[0m \u001b[1;33m**\u001b[0m\u001b[0mkwds\u001b[0m\u001b[1;33m)\u001b[0m\u001b[1;33m\u001b[0m\u001b[1;33m\u001b[0m\u001b[0m\n\u001b[0m\u001b[0;32m   1892\u001b[0m         \u001b[0mself\u001b[0m\u001b[1;33m.\u001b[0m\u001b[0munnamed_cols\u001b[0m \u001b[1;33m=\u001b[0m \u001b[0mself\u001b[0m\u001b[1;33m.\u001b[0m\u001b[0m_reader\u001b[0m\u001b[1;33m.\u001b[0m\u001b[0munnamed_cols\u001b[0m\u001b[1;33m\u001b[0m\u001b[1;33m\u001b[0m\u001b[0m\n\u001b[0;32m   1893\u001b[0m \u001b[1;33m\u001b[0m\u001b[0m\n",
      "\u001b[1;32mpandas\\_libs\\parsers.pyx\u001b[0m in \u001b[0;36mpandas._libs.parsers.TextReader.__cinit__\u001b[1;34m()\u001b[0m\n",
      "\u001b[1;32mpandas\\_libs\\parsers.pyx\u001b[0m in \u001b[0;36mpandas._libs.parsers.TextReader._setup_parser_source\u001b[1;34m()\u001b[0m\n",
      "\u001b[1;31mFileNotFoundError\u001b[0m: [Errno 2] File C:\\Users\\A\\Desktop\\final-ml-project-covid19\\gdp_percapita.csv does not exist: 'C:\\\\Users\\\\A\\\\Desktop\\\\final-ml-project-covid19\\\\gdp_percapita.csv'"
     ]
    }
   ],
   "source": [
    "gdp_pc=pd.read_csv(PATH_TO_FILES+'gdp_percapita.csv')\n",
    "gdp_pc=gdp_pc.dropna(how='all')\n",
    "gdp_pc=gdp_pc.dropna(subset = ['2016'])\n",
    "# gdp_pc=gdp_pc.fillna(axis=1,method='ffill')\n",
    "gdp_pc=gdp_pc.fillna(axis=1,method='ffill') # using last valid year data before dropping rows\n",
    "gdp_pc['CAGR_GDP']=gdp_pc[['2015','2019']].apply(lambda x: CAGR(x['2015'],x['2019'],4),axis=1)\n",
    "# change the df\n",
    "gdp_pc=gdp_pc.drop(columns=['2015','2016','2017','2018'])\n",
    "gdp_pc['2019']=pd.to_numeric(gdp_pc['2019'],downcast='float')\n",
    "gdp_pc['2019']=gdp_pc['2019'].apply(lambda x: round(x,2))\n",
    "gdp_pc.rename(columns={'2019': 'GDPPC'}, inplace=True)\n",
    "gdp_pc.head() # holds GDP per capita"
   ]
  },
  {
   "cell_type": "markdown",
   "metadata": {},
   "source": [
    "# World Bank Data\n",
    "- Celular Usde"
   ]
  },
  {
   "cell_type": "code",
   "execution_count": null,
   "metadata": {},
   "outputs": [],
   "source": [
    "cel_p100=pd.read_csv(PATH_TO_FILES+'cels_percapita.csv')\n",
    "cel_p100=cel_p100.dropna(how='all')\n",
    "cel_p100=cel_p100.dropna(subset = ['2016'])\n",
    "cel_p100=cel_p100.fillna(axis=1,method='ffill')\n",
    "cel_p100['CAGR_CEL']=cel_p100[['2015','2019']].apply(lambda x: CAGR(x['2015'],x['2019'],4),axis=1)\n",
    "cel_p100=cel_p100.drop(columns=['2015','2016','2017','2018'])\n",
    "cel_p100['2019']=pd.to_numeric(cel_p100['2019'],downcast='float')\n",
    "cel_p100['2019']=cel_p100['2019'].apply(lambda x: round(x,2))\n",
    "cel_p100.rename(columns={'2019': 'CELSP100'}, inplace=True)\n",
    "cel_p100.head()"
   ]
  },
  {
   "cell_type": "markdown",
   "metadata": {},
   "source": [
    "## Country Population"
   ]
  },
  {
   "cell_type": "code",
   "execution_count": null,
   "metadata": {},
   "outputs": [],
   "source": [
    "# value in thousands\n",
    "country_pop=pd.read_csv(PATH_TO_FILES+'wbcountry_population.csv')\n",
    "country_pop=country_pop.dropna(how='all')\n",
    "country_pop=country_pop.dropna(subset = ['2016'])\n",
    "country_pop=country_pop.fillna(axis=1,method='ffill')\n",
    "country_pop['CAGR_POP']=country_pop[['2015','2019']].apply(lambda x: CAGR(x['2015'],x['2019'],4),axis=1)\n",
    "country_pop=country_pop.drop(columns=['2015','2016','2017','2018'])\n",
    "country_pop.rename(columns={'2019': 'POPU'}, inplace=True)\n",
    "country_pop.head()"
   ]
  },
  {
   "cell_type": "markdown",
   "metadata": {},
   "source": [
    "### Combine Features"
   ]
  },
  {
   "cell_type": "code",
   "execution_count": null,
   "metadata": {},
   "outputs": [],
   "source": [
    "country_data=gdp_pc.merge(cel_p100,how='inner',on='Country')\n",
    "country_data=country_data.merge(country_pop,how='inner',on='Country')\n",
    "country_data.head()"
   ]
  },
  {
   "cell_type": "code",
   "execution_count": null,
   "metadata": {},
   "outputs": [],
   "source": [
    "country_data=country_data[['Country','Country_Code','GDPPC',\n",
    "                          'CAGR_GDP','CELSP100','CAGR_CEL','POPU','CAGR_POP']]\n",
    "country_data.head()"
   ]
  },
  {
   "cell_type": "code",
   "execution_count": null,
   "metadata": {},
   "outputs": [],
   "source": [
    "country_area=pd.read_csv(PATH_TO_FILES+'countries_area.csv')\n",
    "country_area=country_area[['name','cca2','cioc','region','languages','latlng','landlocked','area']]\n",
    "country_area['langs']=country_area['languages'].apply(lambda x:len(str(x).split(\",\")))\n",
    "country_area['lat']=country_area['latlng'].apply(lambda x:float(str(x).split(\",\")[0]))\n",
    "country_area['lng']=country_area['latlng'].apply(lambda x:float(str(x).split(\",\")[1]))\n",
    "country_area['landlocked'].fillna(0.0,inplace=True)\n",
    "country_area['landlocked']=country_area['landlocked'].astype('int')\n",
    "# country_area[country_area['cioc'].isna()] # returns little islands, so removing them\n",
    "country_area=country_area.dropna(how='any')\n",
    "country_area.reset_index(inplace=True,drop=True) # reseting index\n",
    "country_area.head()"
   ]
  },
  {
   "cell_type": "code",
   "execution_count": null,
   "metadata": {},
   "outputs": [],
   "source": [
    "country_data=country_data.merge(country_area,how='inner',left_on='Country_Code',right_on='cioc')\n",
    "country_data['POPU']=country_data['POPU']/1000000  # pop per million\n",
    "country_data.head() # area in square miles"
   ]
  },
  {
   "cell_type": "code",
   "execution_count": null,
   "metadata": {},
   "outputs": [],
   "source": [
    "google_mr=pd.read_csv(PATH_TO_FILES+'Global_Mobility_Report.csv')"
   ]
  },
  {
   "cell_type": "code",
   "execution_count": null,
   "metadata": {},
   "outputs": [],
   "source": [
    "# data on mobiliy by Google and has by country too\n",
    "'''\n",
    "by region and different categories\n",
    "'''\n",
    "\n",
    "google_mr=google_mr[['country_region_code','country_region','sub_region_1',\n",
    "                     'sub_region_2','date',\n",
    "                     'retail_and_recreation_percent_change_from_baseline']]\n",
    "google_mr=google_mr.rename(columns={'retail_and_recreation_percent_change_from_baseline':'G_MDR'})\n",
    "google_mr['date']=pd.to_datetime(google_mr['date'])\n",
    "google_mr.reset_index(inplace=True,drop=True) # reseting index\n",
    "google_mr=google_mr[google_mr['sub_region_1'].isna()] # only display country data not states"
   ]
  },
  {
   "cell_type": "code",
   "execution_count": null,
   "metadata": {},
   "outputs": [],
   "source": [
    "'''\n",
    "if you wish to plot date per country you would need to group as dates repeat per country\n",
    "'''\n",
    "google_mr[google_mr['country_region']=='United States']['G_MDR'].plot()"
   ]
  },
  {
   "cell_type": "code",
   "execution_count": null,
   "metadata": {},
   "outputs": [],
   "source": [
    "GMR_df=google_mr.groupby('country_region')['G_MDR'].agg(['min','max'])"
   ]
  },
  {
   "cell_type": "code",
   "execution_count": null,
   "metadata": {},
   "outputs": [],
   "source": [
    "GMR_df['Country']=GMR_df.index"
   ]
  },
  {
   "cell_type": "code",
   "execution_count": null,
   "metadata": {},
   "outputs": [],
   "source": [
    "GMR_df.rename(columns={'min':'G_MDR_MIN','max':'G_MDR_MAX'},inplace=True)"
   ]
  },
  {
   "cell_type": "code",
   "execution_count": null,
   "metadata": {},
   "outputs": [],
   "source": [
    "country_data=country_data.merge(GMR_df,how='left',on='Country')\n",
    "# list of countries with no google data tracking that will remove\n",
    "countries_nogdata=country_data[country_data.G_MDR_MIN.isna()].values\n",
    "country_data=country_data[~country_data.G_MDR_MIN.isna()]"
   ]
  },
  {
   "cell_type": "code",
   "execution_count": null,
   "metadata": {},
   "outputs": [],
   "source": [
    " # need to create index to be able to save as dictionary much easier\n",
    "country_data=country_data.set_index('Country',drop=False)\n",
    "\n",
    "c_1M=country_data['POPU'].to_dict() # country pop per million\n",
    "#dropping Canada and Australia as stats on region basis makes it hard\n",
    "del c_1M['Canada']\n",
    "del c_1M['Australia']\n",
    "c_1M['US']=c_1M.pop('United States')\n",
    "c_1M"
   ]
  },
  {
   "cell_type": "code",
   "execution_count": null,
   "metadata": {},
   "outputs": [],
   "source": [
    "df_ts_COVID_d=pd.read_csv(\"https://raw.githubusercontent.com/CSSEGISandData/COVID-19/master/csse_covid_19_data/csse_covid_19_time_series/time_series_covid19_deaths_global.csv\")\n",
    "# del df_ts_COVID['Province/State']\n",
    "del df_ts_COVID_d['Lat']\n",
    "del df_ts_COVID_d['Long']\n",
    "df_ts_COVID_d=df_ts_COVID_d.T\n",
    "columns_to_replace={}\n",
    "c_province=df_ts_COVID_d[0:1].values[0]\n",
    "c_countries=df_ts_COVID_d[1:2].values[0]\n",
    "# df_ts_COVID_d.head()\n",
    "for c in df_ts_COVID_d[0:1].columns.values:\n",
    "    if str(c_province[int(c)])!='nan':\n",
    "           columns_to_replace[c]=str(c_countries[int(c)])+'-' + str(c_province[int(c)])\n",
    "    else:\n",
    "           columns_to_replace[c]=str(c_countries[int(c)])\n",
    "# columns_to_replace\n",
    "df_ts_COVID_d=df_ts_COVID_d.rename(columns=columns_to_replace)\n",
    "df_ts_COVID_d=df_ts_COVID_d.drop(['Province/State', 'Country/Region'])\n",
    "df_ts_COVID_d.index=pd.to_datetime(df_ts_COVID_d.index)"
   ]
  },
  {
   "cell_type": "code",
   "execution_count": null,
   "metadata": {},
   "outputs": [],
   "source": [
    "for c in c_1M.keys():\n",
    "    df_ts_COVID_d[c]=df_ts_COVID_d[c]/c_1M[c] # divide by population to ratio it to make it comparable to other countries\n",
    "df_ts_COVID_d=df_ts_COVID_d[c_1M.keys()]"
   ]
  },
  {
   "cell_type": "code",
   "execution_count": null,
   "metadata": {},
   "outputs": [],
   "source": [
    "df_ts_COVID_d=df_ts_COVID_d.rename(columns={'US':'United States'})\n",
    "# gets the last day of infections for all the countries\n",
    "df_ts_COVID_d[-1:]"
   ]
  },
  {
   "cell_type": "code",
   "execution_count": null,
   "metadata": {},
   "outputs": [],
   "source": [
    "df_ts_COVID_d.tail(10).mean()"
   ]
  },
  {
   "cell_type": "code",
   "execution_count": null,
   "metadata": {},
   "outputs": [],
   "source": [
    "df_ts_1MD=df_ts_COVID_d[-1:]\n",
    "df_ts_1MD=df_ts_1MD.reset_index(drop=True)\n",
    "df_ts_1MD=df_ts_1MD.T\n",
    "df_ts_1MD=df_ts_1MD.rename(columns={0:'DPM'})\n",
    "df_ts_1MD['Country']=df_ts_1MD.index\n",
    "df_ts_1MD=df_ts_1MD.reset_index(drop=True)"
   ]
  },
  {
   "cell_type": "code",
   "execution_count": null,
   "metadata": {},
   "outputs": [],
   "source": [
    "country_data=country_data.reset_index(drop=True)"
   ]
  },
  {
   "cell_type": "code",
   "execution_count": null,
   "metadata": {},
   "outputs": [],
   "source": [
    "last_country_data=country_data.merge(df_ts_1MD,how='left',left_on='Country',right_on='Country')"
   ]
  },
  {
   "cell_type": "code",
   "execution_count": null,
   "metadata": {},
   "outputs": [],
   "source": [
    "last_country_data[last_country_data['DPM'].isna()]# aus and cad dropped as these do not have data"
   ]
  },
  {
   "cell_type": "code",
   "execution_count": null,
   "metadata": {},
   "outputs": [],
   "source": [
    "last_country_data.dropna(inplace=True)"
   ]
  },
  {
   "cell_type": "code",
   "execution_count": null,
   "metadata": {},
   "outputs": [],
   "source": [
    "last_country_data"
   ]
  },
  {
   "cell_type": "code",
   "execution_count": null,
   "metadata": {},
   "outputs": [],
   "source": [
    "'''\n",
    "final feature selection\n",
    "1) columns: Country, \n",
    "country\n",
    "'''\n",
    "\n",
    "last_country_data=last_country_data[['Country', 'Country_Code', 'GDPPC', 'CAGR_GDP', 'CELSP100', 'CAGR_CEL',\n",
    "       'POPU', 'CAGR_POP', 'landlocked', 'area', 'langs', 'lat', 'lng', 'G_MDR_MIN',\n",
    "       'G_MDR_MAX','DPM']]"
   ]
  },
  {
   "cell_type": "code",
   "execution_count": null,
   "metadata": {},
   "outputs": [],
   "source": []
  },
  {
   "cell_type": "code",
   "execution_count": null,
   "metadata": {},
   "outputs": [],
   "source": [
    "from sklearn.cluster import KMeans\n",
    "from sklearn.model_selection import train_test_split\n",
    "from sklearn import metrics"
   ]
  },
  {
   "cell_type": "code",
   "execution_count": null,
   "metadata": {},
   "outputs": [],
   "source": [
    "def status_label(x):\n",
    "    if x <50:\n",
    "        return int(1)\n",
    "    elif x<100:\n",
    "        return int(2)\n",
    "    elif x <200:\n",
    "        return int(3)\n",
    "    else:\n",
    "        return int(4)"
   ]
  },
  {
   "cell_type": "code",
   "execution_count": null,
   "metadata": {},
   "outputs": [],
   "source": [
    "last_country_data['Status_Label']=last_country_data['DPM'].apply(lambda x: status_label(x))"
   ]
  },
  {
   "cell_type": "code",
   "execution_count": null,
   "metadata": {},
   "outputs": [],
   "source": [
    "last_country_data"
   ]
  },
  {
   "cell_type": "code",
   "execution_count": null,
   "metadata": {},
   "outputs": [],
   "source": [
    "last_country_data['Status_Label'].hist()\n",
    "plt.title('Histogram of Status Label')\n",
    "plt.ylabel('# of instances of Label')\n",
    "plt.ylabel('Label')\n",
    "plt.show()"
   ]
  },
  {
   "cell_type": "code",
   "execution_count": null,
   "metadata": {},
   "outputs": [],
   "source": [
    "features_country=['GDPPC', 'CAGR_GDP', 'CELSP100', 'CAGR_CEL',\n",
    "       'POPU', 'CAGR_POP', 'landlocked', 'area', 'langs',\n",
    "       'G_MDR_MIN', 'G_MDR_MAX', 'Status_Label']"
   ]
  },
  {
   "cell_type": "code",
   "execution_count": null,
   "metadata": {},
   "outputs": [],
   "source": [
    "X=last_country_data[features_country[:-1]].values\n",
    "y=last_country_data[features_country[-1]].values"
   ]
  },
  {
   "cell_type": "code",
   "execution_count": null,
   "metadata": {},
   "outputs": [],
   "source": [
    "X_train, X_test, y_train, y_test=train_test_split(X,y,test_size=0.5,random_state=0)"
   ]
  },
  {
   "cell_type": "code",
   "execution_count": null,
   "metadata": {},
   "outputs": [],
   "source": [
    "X_km=last_country_data[features_country[:-1]].values\n",
    "y_km=last_country_data['Status_Label'].values\n",
    "# kmeans = KMeans(n_clusters=4, random_state=0).fit(X_train)\n",
    "kmeans = KMeans(n_clusters=4, random_state=0)\n",
    "kmeans.fit(X_km)\n",
    "# y_pred = kmeans.fit_predict(X_test)"
   ]
  },
  {
   "cell_type": "code",
   "execution_count": null,
   "metadata": {},
   "outputs": [],
   "source": [
    "kmeans.labels_"
   ]
  },
  {
   "cell_type": "code",
   "execution_count": null,
   "metadata": {},
   "outputs": [],
   "source": [
    "fig,ax = plt.subplots(figsize=(4, 3))\n",
    "labels = kmeans.labels_\n",
    "\n",
    "ax.scatter(X_km[:, 4], X_km[:, 2])\n",
    "# ax.scatter([0,2,3], [2,3,1])\n",
    "ax.set_xlabel('GDP')\n",
    "ax.set_ylabel('Celsp per 1K')\n",
    "ax.set_title('K-means Country COVID-19')\n",
    "# ax.dist = 12"
   ]
  },
  {
   "cell_type": "code",
   "execution_count": null,
   "metadata": {},
   "outputs": [],
   "source": [
    "df_eval=pd.DataFrame({'y_label':y_km,'y_pred':kmeans.labels_ + 1}) # adding 1 to make same\n",
    "df_eval['Success']=(df_eval['y_label']==df_eval['y_pred'])"
   ]
  },
  {
   "cell_type": "code",
   "execution_count": null,
   "metadata": {},
   "outputs": [],
   "source": [
    "df_eval"
   ]
  },
  {
   "cell_type": "code",
   "execution_count": null,
   "metadata": {},
   "outputs": [],
   "source": [
    "print(f'Number of records in training: {len(kmeans.labels_)}')"
   ]
  },
  {
   "cell_type": "code",
   "execution_count": null,
   "metadata": {},
   "outputs": [],
   "source": [
    "print(metrics.classification_report(y_km,kmeans.labels_))"
   ]
  },
  {
   "cell_type": "code",
   "execution_count": null,
   "metadata": {},
   "outputs": [],
   "source": [
    "y_pred=kmeans.fit_predict(X_test)"
   ]
  },
  {
   "cell_type": "code",
   "execution_count": null,
   "metadata": {},
   "outputs": [],
   "source": [
    "df_eval=pd.DataFrame({'y_label':y_test,'y_pred':kmeans.labels_ + 1}) # adding 1 to make same\n",
    "df_eval['Success']=(df_eval['y_label']==df_eval['y_pred'])"
   ]
  },
  {
   "cell_type": "code",
   "execution_count": null,
   "metadata": {},
   "outputs": [],
   "source": [
    "df_eval"
   ]
  },
  {
   "cell_type": "code",
   "execution_count": null,
   "metadata": {},
   "outputs": [],
   "source": [
    "df_eval.Success.value_counts() # k-means has a hard time predicting anything, and allocating to right group"
   ]
  },
  {
   "cell_type": "code",
   "execution_count": null,
   "metadata": {},
   "outputs": [],
   "source": [
    "from sklearn.svm import SVC"
   ]
  },
  {
   "cell_type": "code",
   "execution_count": null,
   "metadata": {},
   "outputs": [],
   "source": [
    "reg_svc = SVC()\n",
    "reg_svc.fit(X_train, y_train)\n",
    "y_pred = reg_svc.predict(X_test)"
   ]
  },
  {
   "cell_type": "code",
   "execution_count": null,
   "metadata": {},
   "outputs": [],
   "source": [
    "df_eval=pd.DataFrame({'y_label':y_test,'y_pred':y_pred})\n",
    "df_eval['Correct']=(df_eval['y_label']==df_eval['y_pred'])\n",
    "print(df_eval['Correct'].value_counts())\n",
    "print(\"-\"*100,'\\nClassification Report\\n')\n",
    "print(metrics.classification_report(y_test, y_pred))\n",
    "print('Accuracy Score is True / (True + False)\\n Classes 2 and 3 are not being predicted right')"
   ]
  },
  {
   "cell_type": "code",
   "execution_count": null,
   "metadata": {},
   "outputs": [],
   "source": [
    "from sklearn.preprocessing import MinMaxScaler\n",
    "scaler = MinMaxScaler(feature_range = (0,1))"
   ]
  },
  {
   "cell_type": "code",
   "execution_count": null,
   "metadata": {},
   "outputs": [],
   "source": [
    "scaler.fit(X_train)"
   ]
  },
  {
   "cell_type": "code",
   "execution_count": null,
   "metadata": {},
   "outputs": [],
   "source": [
    "X_train_scaled=scaler.transform(X_train)\n",
    "X_test_scaled = scaler.transform(X_test)"
   ]
  },
  {
   "cell_type": "code",
   "execution_count": null,
   "metadata": {},
   "outputs": [],
   "source": [
    "reg_svc = SVC()\n",
    "reg_svc.fit(X_train_scaled, y_train)\n",
    "y_pred = reg_svc.predict(X_test_scaled)"
   ]
  },
  {
   "cell_type": "code",
   "execution_count": null,
   "metadata": {},
   "outputs": [],
   "source": [
    "df_eval=pd.DataFrame({'y_label':y_test,'y_pred':y_pred})\n",
    "df_eval['Correct']=(df_eval['y_label']==df_eval['y_pred'])\n",
    "\n",
    "print(df_eval['Correct'].value_counts())\n",
    "print(\"-\"*100,'\\nClassification Report using MinMax Scaler\\n')\n",
    "print(metrics.classification_report(y_test, y_pred))\n",
    "print('Accuracy Score is True / (True + False)\\n Classes 2 and 3 are not being predicted right\\nMinMax not that much more accurate')"
   ]
  },
  {
   "cell_type": "markdown",
   "metadata": {},
   "source": [
    "# Visuals"
   ]
  },
  {
   "cell_type": "code",
   "execution_count": null,
   "metadata": {},
   "outputs": [],
   "source": [
    "# fix,ax=plt.subplots(figsize=(20,20))\n",
    "g=sns.pairplot(data=last_country_data[last_country_data['Status_Label']==4]\n",
    "             ,x_vars=['GDPPC'],y_vars=['DPM'],hue='Country')\n",
    "g.fig.set_size_inches(20,12)"
   ]
  },
  {
   "cell_type": "code",
   "execution_count": null,
   "metadata": {},
   "outputs": [],
   "source": [
    "last_country_data['DPM_INT']=last_country_data['DPM'].astype('int')"
   ]
  },
  {
   "cell_type": "code",
   "execution_count": null,
   "metadata": {},
   "outputs": [],
   "source": []
  },
  {
   "cell_type": "code",
   "execution_count": null,
   "metadata": {},
   "outputs": [],
   "source": [
    "import plotly.express as px"
   ]
  },
  {
   "cell_type": "code",
   "execution_count": null,
   "metadata": {},
   "outputs": [],
   "source": [
    "fig = px.scatter(data_frame=last_country_data[last_country_data['Status_Label']==4], x=\"GDPPC\", y=\"DPM\", text=\"Country\", size_max=60)\n",
    "\n",
    "fig.update_traces(textposition='top center')\n",
    "\n",
    "fig.update_layout(\n",
    "    height=800,\n",
    "    title_text='modify title'\n",
    ")\n",
    "\n",
    "fig.show()\n"
   ]
  },
  {
   "cell_type": "code",
   "execution_count": null,
   "metadata": {},
   "outputs": [],
   "source": [
    "'''\n",
    "This article explains the phenomenon seen above:\n",
    "https://www.politico.eu/article/in-defense-of-belgium-coronavirus-covid19-pandemic-response/\n",
    "'''"
   ]
  },
  {
   "cell_type": "code",
   "execution_count": null,
   "metadata": {},
   "outputs": [],
   "source": [
    "fig = px.scatter(data_frame=last_country_data[last_country_data['Status_Label'].isin([3,4])], \n",
    "                 x=\"CAGR_GDP\", y=\"CAGR_CEL\", size=\"DPM_INT\", text=\"Country\",color=\"Status_Label\",\n",
    "                template='ggplot2')\n",
    "\n",
    "fig.update_traces(textposition='top center')\n",
    "\n",
    "fig.update_layout(\n",
    "    height=800,\n",
    "    title_text='Cellphone Growth to GDP Growth\\nCOVID Status on Bubble Scale'\n",
    "#     plot_bgcolor='rgba(248,249,249)'\n",
    "    \n",
    ")\n",
    "fig.show()"
   ]
  },
  {
   "cell_type": "code",
   "execution_count": null,
   "metadata": {},
   "outputs": [],
   "source": [
    "fig = px.scatter(data_frame=last_country_data[last_country_data['Status_Label'].isin([3,4])], \n",
    "                 x=\"GDPPC\", y=\"DPM\", size=\"DPM_INT\", text=\"Country\",color=\"Status_Label\",\n",
    "                template='ggplot2')\n",
    "\n",
    "fig.update_traces(textposition='top center')\n",
    "\n",
    "fig.update_layout(\n",
    "    height=800,\n",
    "    title_text='Death per Million by GDP per Capita'\n",
    "#     plot_bgcolor='rgba(248,249,249)'\n",
    "    \n",
    ")\n",
    "fig.show()"
   ]
  },
  {
   "cell_type": "code",
   "execution_count": null,
   "metadata": {},
   "outputs": [],
   "source": [
    "fig = px.scatter(data_frame=last_country_data, x=\"GDPPC\", y=\"DPM\", size=\"DPM_INT\", text=\"Country\",\n",
    "                template='ggplot2')\n",
    "\n",
    "fig.update_traces(textposition='top center',textfont_size=10)\n",
    "\n",
    "fig.update_layout(\n",
    "    height=800,\n",
    "    title_text='Death per Million to GDP Per Capita'\n",
    ")\n",
    "\n",
    "fig.show()"
   ]
  },
  {
   "cell_type": "code",
   "execution_count": null,
   "metadata": {},
   "outputs": [],
   "source": [
    "fig = px.scatter_geo(data_frame=last_country_data[last_country_data['Status_Label'].isin([2,3,4])],\n",
    "                     hover_name=\"Country\", size=\"DPM_INT\",lat='lat',lon='lng',color='Status_Label')\n",
    "\n",
    "\n",
    "fig.update_layout(\n",
    "    height=800,\n",
    "#     margin={\"r\":0,\"t\":15,\"l\":0,\"b\":0},\n",
    "    mapbox_style=\"open-street-map\",\n",
    "    title_text='Death per Million Category 2-4'\n",
    ")\n",
    "\n",
    "fig.show()"
   ]
  },
  {
   "cell_type": "code",
   "execution_count": null,
   "metadata": {},
   "outputs": [],
   "source": [
    "fig,ax=plt.subplots(figsize=(12,12))\n",
    "ax.scatter(data=last_country_data[last_country_data['Status_Label']==2],\n",
    "                                x='CAGR_POP', y='CAGR_CEL',c='b', alpha=0.75,s='DPM_INT',label='Categ-2')\n",
    "\n",
    "ax.scatter(data=last_country_data[last_country_data['Status_Label']==3],\n",
    "                                x='CAGR_POP', y='CAGR_CEL',c='g', alpha=0.5,s='DPM_INT',label='Categ-3',\n",
    "          marker='s')\n",
    "\n",
    "ax.scatter(data=last_country_data[last_country_data['Status_Label']==4],\n",
    "                                x='CAGR_POP', y='CAGR_CEL',c='r', alpha=0.35,s='DPM_INT',label='Categ-4',\n",
    "          marker='^')\n",
    "# last_country_data[last_country_data['Status_Label'].isin([3,4])]\n",
    "ax.set_xlabel('Population Growth')\n",
    "ax.set_ylabel('Celular Phones Growth')\n",
    "ax.legend()\n",
    "plt.show()"
   ]
  },
  {
   "cell_type": "code",
   "execution_count": null,
   "metadata": {},
   "outputs": [],
   "source": [
    "from sklearn.linear_model import LogisticRegression"
   ]
  },
  {
   "cell_type": "code",
   "execution_count": null,
   "metadata": {},
   "outputs": [],
   "source": [
    "reg_log = LogisticRegression(max_iter=5000,multi_class='ovr')\n",
    "reg_log.fit(X_train, y_train)\n",
    "y_pred = reg_log.predict(X_test)"
   ]
  },
  {
   "cell_type": "code",
   "execution_count": null,
   "metadata": {},
   "outputs": [],
   "source": [
    "print(metrics.classification_report(y_test, y_pred))"
   ]
  },
  {
   "cell_type": "code",
   "execution_count": null,
   "metadata": {},
   "outputs": [],
   "source": [
    "# Linear Regression\n",
    "from sklearn.linear_model import LinearRegression"
   ]
  },
  {
   "cell_type": "code",
   "execution_count": null,
   "metadata": {},
   "outputs": [],
   "source": [
    "linear_reg=LinearRegression(fit_intercept=False)\n",
    "linear_reg.fit(X_train, y_train)\n",
    "y_pred = reg_log.predict(X_test)"
   ]
  },
  {
   "cell_type": "code",
   "execution_count": null,
   "metadata": {},
   "outputs": [],
   "source": [
    "print(metrics.classification_report(y_test, y_pred))"
   ]
  },
  {
   "cell_type": "code",
   "execution_count": null,
   "metadata": {},
   "outputs": [],
   "source": [
    "print(r2_score(y_test, y_pred))"
   ]
  },
  {
   "cell_type": "code",
   "execution_count": null,
   "metadata": {},
   "outputs": [],
   "source": [
    "from sklearn.metrics import roc_auc_score, r2_score"
   ]
  },
  {
   "cell_type": "code",
   "execution_count": null,
   "metadata": {},
   "outputs": [],
   "source": [
    "from sklearn.neighbors import KNeighborsClassifier"
   ]
  },
  {
   "cell_type": "code",
   "execution_count": null,
   "metadata": {},
   "outputs": [],
   "source": [
    "reg_knn = KNeighborsClassifier()\n",
    "reg_knn.fit(X_train, y_train)\n",
    "y_pred = reg_knn.predict(X_test)"
   ]
  },
  {
   "cell_type": "code",
   "execution_count": null,
   "metadata": {},
   "outputs": [],
   "source": [
    "print(metrics.classification_report(y_test, y_pred))"
   ]
  },
  {
   "cell_type": "code",
   "execution_count": null,
   "metadata": {},
   "outputs": [],
   "source": [
    "MIN_DPM=5 # MIN DPM\n",
    "df_Country={} # hold several dataframes"
   ]
  },
  {
   "cell_type": "code",
   "execution_count": null,
   "metadata": {},
   "outputs": [],
   "source": [
    "df_DBC=df_ts_COVID_d[last_country_data.Country.values].copy()\n",
    "df_DBC['United States'][df_DBC['United States']>MIN_DPM].plot()"
   ]
  },
  {
   "cell_type": "code",
   "execution_count": null,
   "metadata": {},
   "outputs": [],
   "source": [
    "df_DBC['Brazil'][df_DBC['Brazil']>MIN_DPM].plot()\n",
    "df_DBC['Colombia'][df_DBC['Colombia']>MIN_DPM].plot(linewidth=4,color='r')\n",
    "df_DBC['Argentina'][df_DBC['Argentina']>MIN_DPM].plot()\n",
    "df_DBC['Ecuador'][df_DBC['Ecuador']>MIN_DPM].plot(marker='^')\n",
    "plt.legend()"
   ]
  },
  {
   "cell_type": "code",
   "execution_count": null,
   "metadata": {},
   "outputs": [],
   "source": [
    "c_1M['United States']=c_1M['US']"
   ]
  },
  {
   "cell_type": "code",
   "execution_count": null,
   "metadata": {},
   "outputs": [],
   "source": [
    "del c_1M['US']\n",
    "c_1M\n"
   ]
  },
  {
   "cell_type": "code",
   "execution_count": null,
   "metadata": {},
   "outputs": [],
   "source": [
    "for k in c_1M.keys():\n",
    "    days=df_DBC[k][df_DBC[k]>MIN_DPM].count()\n",
    "    if days !=0:\n",
    "#         print(k)\n",
    "        # skip any country with no data, so only ones with days > 0\n",
    "        df_c=pd.DataFrame({\n",
    "            'TP':[i for i in range(1,days+1)],\n",
    "            k:df_DBC[k][df_DBC[k]>MIN_DPM].values   # if you wish to keep dates, then remove .values\n",
    "        }\n",
    "        )\n",
    "        df_Country[k]=df_c"
   ]
  },
  {
   "cell_type": "code",
   "execution_count": null,
   "metadata": {},
   "outputs": [],
   "source": [
    "df_DBC_TP=pd.DataFrame({'PLACEHOLDER':range(0,200)},index=range(0,200)) # hold all TP to measure them all with correlations"
   ]
  },
  {
   "cell_type": "code",
   "execution_count": null,
   "metadata": {},
   "outputs": [],
   "source": [
    "for k in df_Country.keys():\n",
    "    df_DBC_TP=df_DBC_TP.merge(df_Country[k],how='left',left_index=True,right_index=True)\n",
    "    df_DBC_TP[k]=pd.to_numeric(df_DBC_TP[k],downcast='float')\n",
    "del df_DBC_TP['TP_y']\n",
    "del df_DBC_TP['TP_x']\n",
    "del df_DBC_TP['PLACEHOLDER']\n",
    "df_DBC_TP=df_DBC_TP.dropna(how='all')\n",
    "# df_DBC_TP=df_DBC_TP.dropna()"
   ]
  },
  {
   "cell_type": "code",
   "execution_count": null,
   "metadata": {},
   "outputs": [],
   "source": [
    "df_Country['Brazil']['Brazil'].plot()\n",
    "df_Country['United States']['United States'].plot()"
   ]
  },
  {
   "cell_type": "code",
   "execution_count": null,
   "metadata": {},
   "outputs": [],
   "source": [
    "n_countries=last_country_data[['Country','Country_Code']][(last_country_data['Status_Label']==4) & (last_country_data['DPM']> MIN_DPM)].count()[0]\n",
    "print(n_countries)"
   ]
  },
  {
   "cell_type": "code",
   "execution_count": null,
   "metadata": {},
   "outputs": [],
   "source": [
    "fig,axs=plt.subplots(nrows=4,ncols=1,figsize=(20,40),sharex=False) # 4 categories, so 4 charts side by side\n",
    "# print(axs.shape)\n",
    "fig.suptitle(f'Countries with COVID DPM Over {MIN_DPM}\\nData {len(df_Country.keys())}')\n",
    "for i in range(1,5):\n",
    "    # start with categories\n",
    "    n_countries=last_country_data[['Country','Country_Code']][(last_country_data['Status_Label']==i) & (last_country_data['DPM']> MIN_DPM)].count()[0]\n",
    "#     print(f'j={str(i)} and # of countries: {str(n_countries)}')\n",
    "    for j in range(1,n_countries):\n",
    "        country=last_country_data[['Country','Country_Code']][(last_country_data['Status_Label']==i) & (last_country_data['DPM']> MIN_DPM)].values[j][0]\n",
    "        axs[i-1].plot(df_Country[country][country].index,df_Country[country][country],\n",
    "                    label=last_country_data[['Country','Country_Code']][(last_country_data['Status_Label']==i) & (last_country_data['DPM']> MIN_DPM)].values[j][1])\n",
    "        axs[i-1].legend()\n",
    "        axs[i-1].set_xlabel('Time Period - Days since first 5 DPM')\n",
    "        axs[i-1].set_ylabel('Death Per Million')\n",
    "        axs[i-1].grid(b=True,alpha=0.25)"
   ]
  },
  {
   "cell_type": "code",
   "execution_count": null,
   "metadata": {},
   "outputs": [],
   "source": [
    "fig,axs=plt.subplots()\n",
    "fig.suptitle('All Countries with DPM > 5')\n",
    "\n",
    "for k in df_Country.keys():\n",
    "#     print(k)\n",
    "    df_Country[k][k].plot(label=k)\n",
    "axs.legend(bbox_to_anchor=(1.2, 1.15))\n",
    "axs.set_xlabel('Time Period - Days since first 5 DPM')\n",
    "axs.set_ylabel('Death Per Million')\n",
    "plt.show()"
   ]
  },
  {
   "cell_type": "markdown",
   "metadata": {},
   "source": [
    "## Correlations"
   ]
  },
  {
   "cell_type": "code",
   "execution_count": null,
   "metadata": {},
   "outputs": [],
   "source": [
    "pd.plotting.scatter_matrix(df_DBC_TP, figsize=(20, 20),)\n",
    "plt.show()"
   ]
  },
  {
   "cell_type": "code",
   "execution_count": null,
   "metadata": {},
   "outputs": [],
   "source": [
    "fig,axs=plt.subplots(nrows=4,ncols=1,figsize=(20,40),sharex=False) # 4 categories, so 4 charts side by side\n",
    "# print(axs.shape)\n",
    "fig.suptitle(f'Countries(correlations) with COVID DPM Over {MIN_DPM}\\nData {len(df_Country.keys())}')\n",
    "for i in range(1,5):\n",
    "    # start with categories\n",
    "    n_countries=last_country_data[['Country','Country_Code']][(last_country_data['Status_Label']==i) & (last_country_data['DPM']> MIN_DPM)].count()[0]\n",
    "    countries_ingroup=last_country_data[['Country','Country_Code']][(last_country_data['Status_Label']==i) & (last_country_data['DPM']> MIN_DPM)].iloc[:,0].values\n",
    "    countries_ingroup_labels=last_country_data[['Country','Country_Code']][(last_country_data['Status_Label']==i) & (last_country_data['DPM']> MIN_DPM)].iloc[:,1].values\n",
    "    \n",
    "    df_DBC_TP_corr=df_DBC_TP[countries_ingroup].corr()\n",
    "    \n",
    "    np_country_corr=df_DBC_TP_corr.values\n",
    "    \n",
    "    mask = np.zeros_like(np_country_corr)\n",
    "    \n",
    "    \n",
    "\n",
    "    mask[np.triu_indices_from(mask)] = True\n",
    "    \n",
    "#     pos = axs[i-1].imshow(df_DBC_TP_corr,cmap='spring',mask=mask,vmax=1,square=False)\n",
    "    sns.heatmap(np_country_corr, mask=mask, vmax=1, square=True,\n",
    "                cmap='spring',ax=axs[i-1],annot=True,linecolor='#435267'\n",
    "               ,annot_kws={\"size\": 8})\n",
    "    \n",
    "    axs[i-1].set_xticks(np.arange(len(countries_ingroup_labels)))\n",
    "    axs[i-1].set_xticklabels(countries_ingroup_labels)\n",
    "    axs[i-1].set_yticks(np.arange(len(countries_ingroup_labels)))\n",
    "    axs[i-1].set_yticklabels(countries_ingroup_labels)\n",
    "#     axs[i-1].colorbar()\n",
    "    axs[i-1].set_title(f'Group: {i}')"
   ]
  },
  {
   "cell_type": "code",
   "execution_count": null,
   "metadata": {},
   "outputs": [],
   "source": []
  },
  {
   "cell_type": "code",
   "execution_count": null,
   "metadata": {},
   "outputs": [],
   "source": []
  }
 ],
 "metadata": {
  "kernelspec": {
   "display_name": "Python 3",
   "language": "python",
   "name": "python3"
  },
  "language_info": {
   "codemirror_mode": {
    "name": "ipython",
    "version": 3
   },
   "file_extension": ".py",
   "mimetype": "text/x-python",
   "name": "python",
   "nbconvert_exporter": "python",
   "pygments_lexer": "ipython3",
   "version": "3.7.6"
  }
 },
 "nbformat": 4,
 "nbformat_minor": 4
}
